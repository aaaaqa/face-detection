{
  "cells": [
    {
      "cell_type": "markdown",
      "metadata": {
        "id": "WdwpDBtf_Owa"
      },
      "source": [
        "Importing libraries"
      ]
    },
    {
      "cell_type": "code",
      "execution_count": 1,
      "metadata": {
        "id": "asylymLQe1N_"
      },
      "outputs": [],
      "source": [
        "import numpy as np\n",
        "import itertools\n",
        "import matplotlib.pyplot as plt\n",
        "import tensorflow as tf\n",
        "from tensorflow.keras import layers, models\n",
        "import cv2\n",
        "import os\n",
        "from google.colab.patches import cv2_imshow\n",
        "from scipy.ndimage import rotate"
      ]
    },
    {
      "cell_type": "markdown",
      "metadata": {
        "id": "0MupGQia_Rgp"
      },
      "source": [
        "Preparing data and folders"
      ]
    },
    {
      "cell_type": "code",
      "execution_count": 2,
      "metadata": {
        "id": "bkOPOrozfWnz"
      },
      "outputs": [],
      "source": [
        "%%capture\n",
        "if(os.path.isdir('/content/training_data') == False):\n",
        "  os.mkdir('/content/training_data')\n",
        "if(os.path.isdir('/content/testing_data') == False):\n",
        "  os.mkdir('/content/testing_data')\n",
        "\n",
        "_train_data_url_ = 'https://raw.githubusercontent.com/aaaaqa/face-detection/testing/train_data.zip'\n",
        "_test_data_url_ = 'https://raw.githubusercontent.com/aaaaqa/face-detection/testing/test_data.zip'\n",
        "!wget -P /content/training_data '{_train_data_url_}'\n",
        "!wget -P /content/testing_data '{_test_data_url_}'\n",
        "!7z x /content/training_data/train_data.zip -o/content/training_data/\n",
        "!7z x /content/testing_data/test_data.zip -o/content/testing_data/\n",
        "!rm /content/testing_data/test_data.zip\n",
        "!rm /content/training_data/train_data.zip"
      ]
    },
    {
      "cell_type": "markdown",
      "metadata": {
        "id": "yNLiuxFu_VfK"
      },
      "source": [
        "Gathering data into variables"
      ]
    },
    {
      "cell_type": "code",
      "execution_count": 3,
      "metadata": {
        "colab": {
          "base_uri": "https://localhost:8080/"
        },
        "id": "2HAbh8UyO8pu",
        "outputId": "167f17d8-7b81-48e9-c4ba-8297841f12a0"
      },
      "outputs": [
        {
          "output_type": "stream",
          "name": "stdout",
          "text": [
            "Found 24282 files belonging to 5 classes.\n",
            "Found 5937 files belonging to 5 classes.\n"
          ]
        }
      ],
      "source": [
        "def _gathering_dataset_(directory):\n",
        "  return tf.keras.utils.image_dataset_from_directory(directory, batch_size=1, image_size=(48,48), color_mode='grayscale', seed=123)\n",
        "\n",
        "training_dataset = _gathering_dataset_('/content/training_data/')\n",
        "train_class_names = training_dataset.class_names\n",
        "num_classes = len(training_dataset.class_names)\n",
        "\n",
        "training_dataset = training_dataset.unbatch()\n",
        "x_train, y_train = list(zip(*training_dataset))\n",
        "\n",
        "testing_dataset = _gathering_dataset_('/content/testing_data/')\n",
        "testing_dataset = testing_dataset.unbatch()\n",
        "x_test, y_test = list(zip(*testing_dataset))"
      ]
    },
    {
      "cell_type": "code",
      "execution_count": 4,
      "metadata": {
        "colab": {
          "base_uri": "https://localhost:8080/"
        },
        "id": "XexTw5EXr9LX",
        "outputId": "31449bdd-6d4f-471d-904c-1f4b0dae65be"
      },
      "outputs": [
        {
          "output_type": "execute_result",
          "data": {
            "text/plain": [
              "['angry', 'happy', 'neutral', 'sad', 'surprise']"
            ]
          },
          "metadata": {},
          "execution_count": 4
        }
      ],
      "source": [
        "train_class_names"
      ]
    },
    {
      "cell_type": "code",
      "execution_count": 5,
      "metadata": {
        "id": "3V1379NqjZjA"
      },
      "outputs": [],
      "source": [
        "y_train_ = []\n",
        "for i in range(len(y_train)):\n",
        "  y_train_.append(train_class_names[y_train[i]])"
      ]
    },
    {
      "cell_type": "code",
      "execution_count": 6,
      "metadata": {
        "colab": {
          "base_uri": "https://localhost:8080/",
          "height": 428
        },
        "id": "kaF1Jvbxi2WX",
        "outputId": "2163edd4-8721-4d9b-ec41-519f2e9ee762"
      },
      "outputs": [
        {
          "output_type": "display_data",
          "data": {
            "text/plain": [
              "<Figure size 640x480 with 1 Axes>"
            ],
            "image/png": "[encoded data removed]"
          },
          "metadata": {}
        }
      ],
      "source": [
        "plt.imshow(x_train[0], cmap='gray')\n",
        "plt.title(y_train_[0])\n",
        "plt.axis('off')\n",
        "plt.show()"
      ]
    },
    {
      "cell_type": "markdown",
      "metadata": {
        "id": "H8d0FD_4DXyJ"
      },
      "source": [
        "# Data augmentation\n",
        "\n"
      ]
    },
    {
      "cell_type": "code",
      "source": [
        "%%capture\n",
        "x_augmented = np.array(x_train) / 255.\n",
        "y_augmented = list(y_train)\n",
        "\n",
        "# Image augmentations\n",
        "rotations = [np.rot90(image, k=i) for i in range(1, 4) for image in x_augmented]\n",
        "flipped_images = [np.flip(image, 1) for image in x_augmented]\n",
        "angle_rotations = [rotate(image, angle=a, reshape=False) for a in [45, 135] for image in x_augmented]\n",
        "\n",
        "# Combine original and augmented data\n",
        "augmentation_results = list(itertools.chain(x_augmented, rotations, flipped_images, angle_rotations))\n",
        "x_augmented = np.array(augmentation_results)\n",
        "\n",
        "y_augmented = np.array(y_augmented * 7)\n",
        "y_augmented = tf.keras.utils.to_categorical(y_augmented, num_classes=num_classes)"
      ],
      "metadata": {
        "id": "0p3A_pzwm-Oh"
      },
      "execution_count": 16,
      "outputs": []
    },
    {
      "cell_type": "code",
      "execution_count": 17,
      "metadata": {
        "id": "zWHP_1dQh2qg"
      },
      "outputs": [],
      "source": [
        "%%capture\n",
        "x_test_augmented = np.array(x_test) / 255.\n",
        "y_test_augmented = list(y_test)\n",
        "\n",
        "# Image augmentations\n",
        "rotations = [np.rot90(image, k=i) for i in range(1, 4) for image in x_test_augmented]\n",
        "flipped_images = [np.flip(image, 1) for image in x_test_augmented]\n",
        "angle_rotations = [rotate(image, angle=a, reshape=False) for a in [45, 135] for image in x_test_augmented]\n",
        "\n",
        "# Combine original and augmented data\n",
        "augmentation_results = list(itertools.chain(x_test_augmented, rotations, flipped_images, angle_rotations))\n",
        "x_test_augmented = np.array(augmentation_results)\n",
        "\n",
        "# Update y_test_augmented\n",
        "y_test_augmented = np.array(y_test_augmented * 7)\n",
        "y_test_augmented = tf.keras.utils.to_categorical(y_test_augmented, num_classes=num_classes)"
      ]
    },
    {
      "cell_type": "code",
      "source": [
        "print(len(x_augmented), len(y_augmented))"
      ],
      "metadata": {
        "colab": {
          "base_uri": "https://localhost:8080/"
        },
        "id": "NRpJ03E1zkgh",
        "outputId": "b6761b30-8977-46ed-a3ad-a4d33f9154bb"
      },
      "execution_count": 18,
      "outputs": [
        {
          "output_type": "stream",
          "name": "stdout",
          "text": [
            "169974 169974\n"
          ]
        }
      ]
    },
    {
      "cell_type": "markdown",
      "metadata": {
        "id": "f9z8Kyd4_czJ"
      },
      "source": [
        "# Creating model"
      ]
    },
    {
      "cell_type": "code",
      "execution_count": 19,
      "metadata": {
        "id": "nMMqk3a5hxxf"
      },
      "outputs": [],
      "source": [
        "model = models.Sequential()\n",
        "model.add(layers.Conv2D(32, (3, 3), input_shape=(48,48,1), activation='relu'))\n",
        "model.add(layers.MaxPooling2D(pool_size=(2, 2)))\n",
        "model.add(layers.Conv2D(32, (3, 3), activation='relu'))\n",
        "model.add(layers.BatchNormalization())\n",
        "model.add(layers.MaxPooling2D(pool_size=(2, 2)))\n",
        "model.add(layers.Dropout(0.25))\n",
        "model.add(layers.Conv2D(64, (3, 3), activation='relu'))\n",
        "model.add(layers.BatchNormalization())\n",
        "model.add(layers.Dropout(0.25))\n",
        "model.add(layers.Conv2D(128, (3, 3), activation='relu'))\n",
        "model.add(layers.BatchNormalization())\n",
        "model.add(layers.MaxPooling2D(pool_size=(2, 2)))\n",
        "model.add(layers.Dropout(0.25))\n",
        "model.add(layers.Dropout(0.25))\n",
        "\n",
        "model.add(layers.Flatten())\n",
        "\n",
        "model.add(layers.Dense(512, activation='relu'))\n",
        "model.add(layers.BatchNormalization())\n",
        "model.add(layers.Dropout(0.3))\n",
        "model.add(layers.Dense(256, activation='relu'))\n",
        "model.add(layers.BatchNormalization())\n",
        "model.add(layers.Dropout(0.4))\n",
        "model.add(layers.Dense(128, activation='relu'))\n",
        "model.add(layers.BatchNormalization())\n",
        "model.add(layers.Dropout(0.5))\n",
        "\n",
        "model.add(layers.Dense(num_classes, activation='softmax'))\n",
        "\n",
        "model.compile(loss='categorical_crossentropy', optimizer='nadam', metrics=['accuracy'])"
      ]
    },
    {
      "cell_type": "code",
      "execution_count": 20,
      "metadata": {
        "id": "Ki7_Ex_0iE2o",
        "colab": {
          "base_uri": "https://localhost:8080/"
        },
        "outputId": "ed2b319b-09f9-4c69-b3dd-62466484fcb8"
      },
      "outputs": [
        {
          "output_type": "stream",
          "name": "stdout",
          "text": [
            "Epoch 1/50\n",
            "5312/5312 [==============================] - 88s 13ms/step - loss: 1.5622 - accuracy: 0.3152\n",
            "Epoch 2/50\n",
            "5312/5312 [==============================] - 69s 13ms/step - loss: 1.3233 - accuracy: 0.4475\n",
            "Epoch 3/50\n",
            "5312/5312 [==============================] - 70s 13ms/step - loss: 1.2043 - accuracy: 0.5083\n",
            "Epoch 4/50\n",
            "5312/5312 [==============================] - 70s 13ms/step - loss: 1.1401 - accuracy: 0.5408\n",
            "Epoch 5/50\n",
            "5312/5312 [==============================] - 69s 13ms/step - loss: 1.1016 - accuracy: 0.5603\n",
            "Epoch 6/50\n",
            "5312/5312 [==============================] - 69s 13ms/step - loss: 1.0779 - accuracy: 0.5704\n",
            "Epoch 7/50\n",
            "5312/5312 [==============================] - 70s 13ms/step - loss: 1.0550 - accuracy: 0.5823\n",
            "Epoch 8/50\n",
            "5312/5312 [==============================] - 70s 13ms/step - loss: 1.0408 - accuracy: 0.5875\n",
            "Epoch 9/50\n",
            "5312/5312 [==============================] - 70s 13ms/step - loss: 1.0293 - accuracy: 0.5926\n",
            "Epoch 10/50\n",
            "5312/5312 [==============================] - 69s 13ms/step - loss: 1.0202 - accuracy: 0.5970\n",
            "Epoch 11/50\n",
            "5312/5312 [==============================] - 71s 13ms/step - loss: 1.0091 - accuracy: 0.6022\n",
            "Epoch 12/50\n",
            "5312/5312 [==============================] - 71s 13ms/step - loss: 1.0015 - accuracy: 0.6047\n",
            "Epoch 13/50\n",
            "5312/5312 [==============================] - 70s 13ms/step - loss: 0.9959 - accuracy: 0.6076\n",
            "Epoch 14/50\n",
            "5312/5312 [==============================] - 70s 13ms/step - loss: 0.9886 - accuracy: 0.6106\n",
            "Epoch 15/50\n",
            "5312/5312 [==============================] - 70s 13ms/step - loss: 0.9822 - accuracy: 0.6141\n",
            "Epoch 16/50\n",
            "5312/5312 [==============================] - 71s 13ms/step - loss: 0.9768 - accuracy: 0.6170\n",
            "Epoch 17/50\n",
            "5312/5312 [==============================] - 70s 13ms/step - loss: 0.9722 - accuracy: 0.6181\n",
            "Epoch 18/50\n",
            "5312/5312 [==============================] - 70s 13ms/step - loss: 0.9668 - accuracy: 0.6201\n",
            "Epoch 19/50\n",
            "5312/5312 [==============================] - 70s 13ms/step - loss: 0.9621 - accuracy: 0.6248\n",
            "Epoch 20/50\n",
            "5312/5312 [==============================] - 70s 13ms/step - loss: 0.9596 - accuracy: 0.6241\n",
            "Epoch 21/50\n",
            "5312/5312 [==============================] - 70s 13ms/step - loss: 0.9555 - accuracy: 0.6262\n",
            "Epoch 22/50\n",
            "5312/5312 [==============================] - 69s 13ms/step - loss: 0.9516 - accuracy: 0.6264\n",
            "Epoch 23/50\n",
            "5312/5312 [==============================] - 70s 13ms/step - loss: 0.9472 - accuracy: 0.6288\n",
            "Epoch 24/50\n",
            "5312/5312 [==============================] - 71s 13ms/step - loss: 0.9472 - accuracy: 0.6309\n",
            "Epoch 25/50\n",
            "5312/5312 [==============================] - 70s 13ms/step - loss: 0.9462 - accuracy: 0.6302\n",
            "Epoch 26/50\n",
            "5312/5312 [==============================] - 70s 13ms/step - loss: 0.9391 - accuracy: 0.6337\n",
            "Epoch 27/50\n",
            "5312/5312 [==============================] - 70s 13ms/step - loss: 0.9371 - accuracy: 0.6341\n",
            "Epoch 28/50\n",
            "5312/5312 [==============================] - 70s 13ms/step - loss: 0.9362 - accuracy: 0.6332\n",
            "Epoch 29/50\n",
            "5312/5312 [==============================] - 70s 13ms/step - loss: 0.9330 - accuracy: 0.6362\n",
            "Epoch 30/50\n",
            "5312/5312 [==============================] - 71s 13ms/step - loss: 0.9284 - accuracy: 0.6375\n",
            "Epoch 31/50\n",
            "5312/5312 [==============================] - 70s 13ms/step - loss: 0.9286 - accuracy: 0.6381\n",
            "Epoch 32/50\n",
            "5312/5312 [==============================] - 69s 13ms/step - loss: 0.9258 - accuracy: 0.6403\n",
            "Epoch 33/50\n",
            "5312/5312 [==============================] - 70s 13ms/step - loss: 0.9225 - accuracy: 0.6405\n",
            "Epoch 34/50\n",
            "5312/5312 [==============================] - 70s 13ms/step - loss: 0.9213 - accuracy: 0.6408\n",
            "Epoch 35/50\n",
            "5312/5312 [==============================] - 70s 13ms/step - loss: 0.9195 - accuracy: 0.6409\n",
            "Epoch 36/50\n",
            "5312/5312 [==============================] - 71s 13ms/step - loss: 0.9203 - accuracy: 0.6416\n",
            "Epoch 37/50\n",
            "5312/5312 [==============================] - 70s 13ms/step - loss: 0.9168 - accuracy: 0.6438\n",
            "Epoch 38/50\n",
            "5312/5312 [==============================] - 70s 13ms/step - loss: 0.9133 - accuracy: 0.6431\n",
            "Epoch 39/50\n",
            "5312/5312 [==============================] - 70s 13ms/step - loss: 0.9148 - accuracy: 0.6438\n",
            "Epoch 40/50\n",
            "5312/5312 [==============================] - 70s 13ms/step - loss: 0.9120 - accuracy: 0.6441\n",
            "Epoch 41/50\n",
            "5312/5312 [==============================] - 70s 13ms/step - loss: 0.9083 - accuracy: 0.6461\n",
            "Epoch 42/50\n",
            "5312/5312 [==============================] - 70s 13ms/step - loss: 0.9078 - accuracy: 0.6467\n",
            "Epoch 43/50\n",
            "5312/5312 [==============================] - 70s 13ms/step - loss: 0.9075 - accuracy: 0.6480\n",
            "Epoch 44/50\n",
            "5312/5312 [==============================] - 70s 13ms/step - loss: 0.9073 - accuracy: 0.6477\n",
            "Epoch 45/50\n",
            "5312/5312 [==============================] - 70s 13ms/step - loss: 0.9031 - accuracy: 0.6492\n",
            "Epoch 46/50\n",
            "5312/5312 [==============================] - 71s 13ms/step - loss: 0.9030 - accuracy: 0.6491\n",
            "Epoch 47/50\n",
            "5312/5312 [==============================] - 70s 13ms/step - loss: 0.9038 - accuracy: 0.6496\n",
            "Epoch 48/50\n",
            "5312/5312 [==============================] - 70s 13ms/step - loss: 0.9008 - accuracy: 0.6505\n",
            "Epoch 49/50\n",
            "5312/5312 [==============================] - 71s 13ms/step - loss: 0.8994 - accuracy: 0.6498\n",
            "Epoch 50/50\n",
            "5312/5312 [==============================] - 70s 13ms/step - loss: 0.9007 - accuracy: 0.6495\n"
          ]
        }
      ],
      "source": [
        "hist = model.fit(x=x_augmented,y=y_augmented,epochs=50,batch_size=32)"
      ]
    },
    {
      "cell_type": "markdown",
      "metadata": {
        "id": "jKOWJ5B7uiiN"
      },
      "source": [
        "# Data augmentation testing"
      ]
    },
    {
      "cell_type": "markdown",
      "metadata": {
        "id": "IaxnL2LOunPk"
      },
      "source": [
        "# Test evaluation"
      ]
    },
    {
      "cell_type": "code",
      "execution_count": 22,
      "metadata": {
        "id": "R2inlxPUiYuZ",
        "colab": {
          "base_uri": "https://localhost:8080/"
        },
        "outputId": "ac9da870-04ca-40c0-ebe5-ff53f012f30f"
      },
      "outputs": [
        {
          "output_type": "stream",
          "name": "stdout",
          "text": [
            "1299/1299 [==============================] - 5s 4ms/step - loss: 0.8372 - accuracy: 0.6729\n"
          ]
        }
      ],
      "source": [
        "score = model.evaluate(x_test_augmented, y_test_augmented)"
      ]
    },
    {
      "cell_type": "code",
      "source": [
        "model.save('model.h5')"
      ],
      "metadata": {
        "id": "wIz3bWfqw03k",
        "colab": {
          "base_uri": "https://localhost:8080/"
        },
        "outputId": "b2da7877-e381-46a2-b7a0-c44d6badb393"
      },
      "execution_count": 21,
      "outputs": [
        {
          "output_type": "stream",
          "name": "stderr",
          "text": [
            "/usr/local/lib/python3.10/dist-packages/keras/src/engine/training.py:3079: UserWarning: You are saving your model as an HDF5 file via `model.save()`. This file format is considered legacy. We recommend using instead the native Keras format, e.g. `model.save('my_model.keras')`.\n",
            "  saving_api.save_model(\n"
          ]
        }
      ]
    }
  ],
  "metadata": {
    "accelerator": "GPU",
    "colab": {
      "provenance": []
    },
    "kernelspec": {
      "display_name": "Python 3",
      "name": "python3"
    },
    "language_info": {
      "name": "python"
    }
  },
  "nbformat": 4,
  "nbformat_minor": 0
}